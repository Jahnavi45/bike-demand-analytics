{
 "cells": [
  {
   "cell_type": "markdown",
   "id": "f6abb42a",
   "metadata": {},
   "source": [
    "# Bike Sharing Demand Analysis"
   ]
  },
  {
   "cell_type": "code",
   "execution_count": null,
   "id": "6c10c7c7",
   "metadata": {},
   "outputs": [],
   "source": [
    "\n",
    "import pandas as pd\n",
    "import matplotlib.pyplot as plt\n",
    "import seaborn as sns\n",
    "\n",
    "# Load dataset\n",
    "url = \"https://raw.githubusercontent.com/selva86/datasets/master/BikeSharingDaily.csv\"\n",
    "df = pd.read_csv(url)\n",
    "df.head()\n"
   ]
  },
  {
   "cell_type": "code",
   "execution_count": null,
   "id": "62741290",
   "metadata": {},
   "outputs": [],
   "source": [
    "\n",
    "# Check for nulls and summary statistics\n",
    "df.info()\n",
    "df.describe()\n"
   ]
  },
  {
   "cell_type": "code",
   "execution_count": null,
   "id": "71c0a95f",
   "metadata": {},
   "outputs": [],
   "source": [
    "\n",
    "# Correlation Heatmap\n",
    "plt.figure(figsize=(10,6))\n",
    "sns.heatmap(df.corr(), annot=True, cmap='coolwarm')\n",
    "plt.title(\"Feature Correlation Heatmap\")\n",
    "plt.show()\n"
   ]
  },
  {
   "cell_type": "code",
   "execution_count": null,
   "id": "a0c29960",
   "metadata": {},
   "outputs": [],
   "source": [
    "\n",
    "# Rentals by season\n",
    "sns.barplot(x='season', y='cnt', data=df)\n",
    "plt.title(\"Average Rentals by Season\")\n",
    "plt.show()\n"
   ]
  },
  {
   "cell_type": "code",
   "execution_count": null,
   "id": "498e1c87",
   "metadata": {},
   "outputs": [],
   "source": [
    "\n",
    "# Linear Regression model\n",
    "from sklearn.linear_model import LinearRegression\n",
    "from sklearn.model_selection import train_test_split\n",
    "from sklearn.metrics import r2_score\n",
    "\n",
    "X = df[['temp', 'atemp', 'hum', 'windspeed']]\n",
    "y = df['cnt']\n",
    "\n",
    "X_train, X_test, y_train, y_test = train_test_split(X, y, test_size=0.2, random_state=42)\n",
    "\n",
    "model = LinearRegression()\n",
    "model.fit(X_train, y_train)\n",
    "y_pred = model.predict(X_test)\n",
    "\n",
    "print(\"R2 Score:\", r2_score(y_test, y_pred))\n"
   ]
  }
 ],
 "metadata": {},
 "nbformat": 4,
 "nbformat_minor": 5
}
